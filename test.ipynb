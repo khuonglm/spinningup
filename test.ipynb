{
 "cells": [
  {
   "cell_type": "code",
   "execution_count": 5,
   "metadata": {},
   "outputs": [],
   "source": [
    "import gymnasium as gym"
   ]
  },
  {
   "cell_type": "code",
   "execution_count": 6,
   "metadata": {},
   "outputs": [],
   "source": [
    "env = gym.make(\"CarRacing-v2\")"
   ]
  },
  {
   "cell_type": "code",
   "execution_count": 10,
   "metadata": {},
   "outputs": [
    {
     "name": "stdout",
     "output_type": "stream",
     "text": [
      "[[[0 0 0]\n",
      "  [0 0 0]\n",
      "  [0 0 0]\n",
      "  ...\n",
      "  [0 0 0]\n",
      "  [0 0 0]\n",
      "  [0 0 0]]\n",
      "\n",
      " [[0 0 0]\n",
      "  [0 0 0]\n",
      "  [0 0 0]\n",
      "  ...\n",
      "  [0 0 0]\n",
      "  [0 0 0]\n",
      "  [0 0 0]]\n",
      "\n",
      " [[0 0 0]\n",
      "  [0 0 0]\n",
      "  [0 0 0]\n",
      "  ...\n",
      "  [0 0 0]\n",
      "  [0 0 0]\n",
      "  [0 0 0]]\n",
      "\n",
      " ...\n",
      "\n",
      " [[0 0 0]\n",
      "  [0 0 0]\n",
      "  [0 0 0]\n",
      "  ...\n",
      "  [0 0 0]\n",
      "  [0 0 0]\n",
      "  [0 0 0]]\n",
      "\n",
      " [[0 0 0]\n",
      "  [0 0 0]\n",
      "  [0 0 0]\n",
      "  ...\n",
      "  [0 0 0]\n",
      "  [0 0 0]\n",
      "  [0 0 0]]\n",
      "\n",
      " [[0 0 0]\n",
      "  [0 0 0]\n",
      "  [0 0 0]\n",
      "  ...\n",
      "  [0 0 0]\n",
      "  [0 0 0]\n",
      "  [0 0 0]]]\n"
     ]
    }
   ],
   "source": [
    "obs, _ = env.reset()\n",
    "print(obs)"
   ]
  },
  {
   "cell_type": "code",
   "execution_count": 35,
   "metadata": {},
   "outputs": [],
   "source": [
    "n_obs = np.moveaxis(obs, -1, 0)"
   ]
  },
  {
   "cell_type": "code",
   "execution_count": 39,
   "metadata": {},
   "outputs": [
    {
     "name": "stdout",
     "output_type": "stream",
     "text": [
      "(3, 210, 160) (210, 160, 3)\n"
     ]
    }
   ],
   "source": [
    "print(n_obs.shape, obs.shape)"
   ]
  },
  {
   "cell_type": "code",
   "execution_count": 36,
   "metadata": {},
   "outputs": [
    {
     "name": "stdout",
     "output_type": "stream",
     "text": [
      "[[[239 105 195 ... 244 161 130]\n",
      "  [216 206 248 ... 190 132 251]\n",
      "  [223 148 192 ... 171  18 222]\n",
      "  ...\n",
      "  [214 141 227 ... 215 137 148]\n",
      "  [ 42  63 115 ... 239 173  33]\n",
      "  [178 161 118 ... 142 239 168]]\n",
      "\n",
      " [[228 171 186 ... 113 116  62]\n",
      "  [ 46  33 186 ... 150  64  15]\n",
      "  [ 33 184   2 ... 234 199 244]\n",
      "  ...\n",
      "  [171  58  73 ... 172 215 175]\n",
      "  [ 89 242 222 ...  68 152 157]\n",
      "  [ 53 135 154 ...  35 127 104]]\n",
      "\n",
      " [[ 45 115 242 ...  18 128 215]\n",
      "  [119 177   7 ... 229 173 124]\n",
      "  [214  78 176 ... 143 241  15]\n",
      "  ...\n",
      "  [ 69  65 129 ...  89  56  72]\n",
      "  [178 100 110 ... 155  80 144]\n",
      "  [144 187 199 ... 105  47  20]]]\n"
     ]
    }
   ],
   "source": [
    "print(n_obs)"
   ]
  },
  {
   "cell_type": "code",
   "execution_count": 32,
   "metadata": {},
   "outputs": [
    {
     "name": "stdout",
     "output_type": "stream",
     "text": [
      "[[[239 228  45]\n",
      "  [105 171 115]\n",
      "  [195 186 242]\n",
      "  ...\n",
      "  [244 113  18]\n",
      "  [161 116 128]\n",
      "  [130  62 215]]\n",
      "\n",
      " [[216  46 119]\n",
      "  [206  33 177]\n",
      "  [248 186   7]\n",
      "  ...\n",
      "  [190 150 229]\n",
      "  [132  64 173]\n",
      "  [251  15 124]]\n",
      "\n",
      " [[223  33 214]\n",
      "  [148 184  78]\n",
      "  [192   2 176]\n",
      "  ...\n",
      "  [171 234 143]\n",
      "  [ 18 199 241]\n",
      "  [222 244  15]]\n",
      "\n",
      " ...\n",
      "\n",
      " [[214 171  69]\n",
      "  [141  58  65]\n",
      "  [227  73 129]\n",
      "  ...\n",
      "  [215 172  89]\n",
      "  [137 215  56]\n",
      "  [148 175  72]]\n",
      "\n",
      " [[ 42  89 178]\n",
      "  [ 63 242 100]\n",
      "  [115 222 110]\n",
      "  ...\n",
      "  [239  68 155]\n",
      "  [173 152  80]\n",
      "  [ 33 157 144]]\n",
      "\n",
      " [[178  53 144]\n",
      "  [161 135 187]\n",
      "  [118 154 199]\n",
      "  ...\n",
      "  [142  35 105]\n",
      "  [239 127  47]\n",
      "  [168 104  20]]]\n"
     ]
    }
   ],
   "source": [
    "print(obs)"
   ]
  }
 ],
 "metadata": {
  "kernelspec": {
   "display_name": "spinningup",
   "language": "python",
   "name": "python3"
  },
  "language_info": {
   "codemirror_mode": {
    "name": "ipython",
    "version": 3
   },
   "file_extension": ".py",
   "mimetype": "text/x-python",
   "name": "python",
   "nbconvert_exporter": "python",
   "pygments_lexer": "ipython3",
   "version": "3.10.14"
  }
 },
 "nbformat": 4,
 "nbformat_minor": 2
}

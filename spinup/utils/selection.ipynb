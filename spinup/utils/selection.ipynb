{
 "cells": [
  {
   "cell_type": "code",
   "execution_count": 3,
   "metadata": {},
   "outputs": [],
   "source": [
    "import numpy as np\n",
    "import pandas as pd\n",
    "import os \n",
    "import os.path as osp"
   ]
  },
  {
   "cell_type": "code",
   "execution_count": 12,
   "metadata": {},
   "outputs": [],
   "source": [
    "dir_path = '/Users/khuongle/Documents/4th-semester/cs492/spinningup_stable/spinningup/data/dqn_Breakout-ramDeterministic-v4/dqn_Breakout-ramDeterministic-v4_s384'"
   ]
  },
  {
   "cell_type": "code",
   "execution_count": 13,
   "metadata": {},
   "outputs": [
    {
     "name": "stdout",
     "output_type": "stream",
     "text": [
      "2158 364.0\n"
     ]
    }
   ],
   "source": [
    "best, bmean = 0, float(-1e9)\n",
    "for i in range(3000):\n",
    "    file_path = osp.join(dir_path, 'model' + str(i) + '.txt')\n",
    "    if osp.exists(file_path):\n",
    "        df = pd.read_table(file_path)\n",
    "        mean = df.iloc[:,1].values.mean()\n",
    "        if mean > bmean:\n",
    "            best, bmean = i, mean\n",
    "print(best, bmean)"
   ]
  }
 ],
 "metadata": {
  "kernelspec": {
   "display_name": "spinningup2",
   "language": "python",
   "name": "python3"
  },
  "language_info": {
   "codemirror_mode": {
    "name": "ipython",
    "version": 3
   },
   "file_extension": ".py",
   "mimetype": "text/x-python",
   "name": "python",
   "nbconvert_exporter": "python",
   "pygments_lexer": "ipython3",
   "version": "3.10.14"
  }
 },
 "nbformat": 4,
 "nbformat_minor": 2
}

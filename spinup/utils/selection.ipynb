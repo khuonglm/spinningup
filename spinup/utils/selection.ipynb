{
 "cells": [
  {
   "cell_type": "code",
   "execution_count": 2,
   "metadata": {},
   "outputs": [],
   "source": [
    "import numpy as np\n",
    "import pandas as pd\n",
    "import os \n",
    "import os.path as osp"
   ]
  },
  {
   "cell_type": "code",
   "execution_count": 1,
   "metadata": {},
   "outputs": [],
   "source": [
    "dir_path = '/Users/khuongle/Documents/4th-semester/cs492/spinningup_stable/spinningup/data/sacd_Breakout-ramDeterministic-v4/sacd_Breakout-ramDeterministic-v4_s923'"
   ]
  },
  {
   "cell_type": "code",
   "execution_count": 88,
   "metadata": {},
   "outputs": [],
   "source": [
    "candidate = [\n",
    "    [\n",
    "        '/Users/khuongle/Documents/4th-semester/cs492/spinningup_stable/spinningup/data/ppo_Breakout-ramDeterministic-v4/ppo_Breakout-ramDeterministic-v4_s928/model.txt',\n",
    "    ],\n",
    "    [\n",
    "        '/Users/khuongle/Documents/4th-semester/cs492/spinningup_stable/spinningup/data/ppo_Breakout-ramDeterministic-v4/ppo_Breakout-ramDeterministic-v4_s485/model2483.txt',\n",
    "    ],\n",
    "    [\n",
    "        '/Users/khuongle/Documents/4th-semester/cs492/spinningup_stable/spinningup/data/ppo_Breakout-ramDeterministic-v4/ppo_Breakout-ramDeterministic-v4_s485/model2493.txt',\n",
    "    ],\n",
    "    [\n",
    "        '/Users/khuongle/Documents/4th-semester/cs492/spinningup_stable/spinningup/data/ppo_Breakout-ramDeterministic-v4/ppo_Breakout-ramDeterministic-v4_s485/model2497.txt',\n",
    "    ],\n",
    "    [\n",
    "        '/Users/khuongle/Documents/4th-semester/cs492/spinningup_stable/spinningup/data/ppo_Breakout-ramDeterministic-v4/ppo_Breakout-ramDeterministic-v4_s555/model2499.txt',\n",
    "    ],\n",
    "    [\n",
    "        '/Users/khuongle/Documents/4th-semester/cs492/spinningup_stable/spinningup/data/ppo_Breakout-ramDeterministic-v4/ppo_Breakout-ramDeterministic-v4_s345/model2476.txt',\n",
    "    ],\n",
    "    [\n",
    "        '/Users/khuongle/Documents/4th-semester/cs492/spinningup_stable/spinningup/data/ppo_Breakout-ramDeterministic-v4/ppo_Breakout-ramDeterministic-v4_s345/model2498.txt',\n",
    "    ],\n",
    "    [\n",
    "        '/Users/khuongle/Documents/4th-semester/cs492/spinningup_stable/spinningup/data/ppo_Breakout-ramDeterministic-v4/ppo_Breakout-ramDeterministic-v4_s747/model2428.txt',\n",
    "    ],\n",
    "    [\n",
    "        '/Users/khuongle/Documents/4th-semester/cs492/spinningup_stable/spinningup/data/ppo_Breakout-ramDeterministic-v4/ppo_Breakout-ramDeterministic-v4_s747/model2499.txt',\n",
    "    ],\n",
    "    [\n",
    "        '/Users/khuongle/Documents/4th-semester/cs492/spinningup_stable/spinningup/data/ppo_Breakout-ramDeterministic-v4/ppo_Breakout-ramDeterministic-v4_s555/model2497.txt',\n",
    "    ],\n",
    "]"
   ]
  },
  {
   "cell_type": "code",
   "execution_count": 95,
   "metadata": {},
   "outputs": [],
   "source": [
    "\n",
    "# for i in range(2480):\n",
    "#     model = osp.join(dir_path, 'pyt_save/model' + str(i) + '.pt')\n",
    "#     vars = osp.join(dir_path, 'vars' + str(i) + '.pkl')\n",
    "#     txt = osp.join(dir_path, 'model' + str(i) + '.txt')\n",
    "#     delete = True\n",
    "#     for file in candidate:\n",
    "#         itr = file[0][-8:-4]\n",
    "#         if (dir_path == file[0][:-13] or dir_path == file[0][:-14]) and itr == str(i):\n",
    "#             delete = False\n",
    "#     # if not delete:\n",
    "#     #     print(i)\n",
    "#     if delete:\n",
    "#         if osp.exists(model):\n",
    "#             os.remove(model)\n",
    "#         if osp.exists(vars):\n",
    "#             os.remove(vars)\n",
    "#         if osp.exists(txt):\n",
    "#             os.remove(txt)"
   ]
  },
  {
   "cell_type": "code",
   "execution_count": 7,
   "metadata": {},
   "outputs": [],
   "source": [
    "data = []\n",
    "for i in range(3000):\n",
    "    file_path = osp.join(dir_path, 'model' + str(i) + '.txt')\n",
    "    if osp.exists(file_path):\n",
    "        df = pd.read_table(file_path)\n",
    "        mean = df.iloc[:,1].values.mean()\n",
    "        data.append([mean, i])"
   ]
  },
  {
   "cell_type": "code",
   "execution_count": 8,
   "metadata": {},
   "outputs": [],
   "source": [
    "data = np.asarray(data)\n",
    "indices = np.argsort(data[:,0])\n",
    "tmp = data[indices][::-1]"
   ]
  },
  {
   "cell_type": "code",
   "execution_count": 25,
   "metadata": {},
   "outputs": [],
   "source": [
    "file_path = osp.join(dir_path, 'sort.txt')\n",
    "d = np.zeros(500)\n",
    "with open(file_path, 'r') as f:\n",
    "    for data in f.readlines():\n",
    "        data = data[:-1].split('\\t')\n",
    "        d[int(data[1][:-4]) - 1] = data[0]"
   ]
  },
  {
   "cell_type": "code",
   "execution_count": 27,
   "metadata": {},
   "outputs": [],
   "source": [
    "file_path = osp.join(dir_path, 'progress.txt')\n",
    "df = pd.read_table(file_path)\n",
    "df[\"TestEpRet\"] = d"
   ]
  },
  {
   "cell_type": "code",
   "execution_count": 29,
   "metadata": {},
   "outputs": [],
   "source": [
    "# outfile = osp.join(dir_path, 'sort.txt')\n",
    "# formatted_str = '\\n'.join(['\\t'.join(['%.3f' % val for val in row]) for row in tmp])\n",
    "# with open(outfile, 'w')as f:\n",
    "#     f.write(formatted_str)\n",
    "df.to_csv(osp.join(dir_path, 'progress1.txt'), sep='\\t', index=False)"
   ]
  }
 ],
 "metadata": {
  "kernelspec": {
   "display_name": "spinningup2",
   "language": "python",
   "name": "python3"
  },
  "language_info": {
   "codemirror_mode": {
    "name": "ipython",
    "version": 3
   },
   "file_extension": ".py",
   "mimetype": "text/x-python",
   "name": "python",
   "nbconvert_exporter": "python",
   "pygments_lexer": "ipython3",
   "version": "3.10.14"
  }
 },
 "nbformat": 4,
 "nbformat_minor": 2
}
